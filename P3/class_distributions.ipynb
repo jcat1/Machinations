{
 "cells": [
  {
   "cell_type": "code",
   "execution_count": 8,
   "metadata": {},
   "outputs": [],
   "source": [
    "import pandas as pd\n",
    "import numpy as np"
   ]
  },
  {
   "cell_type": "code",
   "execution_count": 25,
   "metadata": {},
   "outputs": [
    {
     "data": {
      "text/plain": [
       "{0.0: 0.2784189723320158,\n",
       " 1.0: 0.023557312252964428,\n",
       " 2.0: 0.11288537549407114,\n",
       " 3.0: 0.07778656126482214,\n",
       " 4.0: 0.09422924901185771,\n",
       " 5.0: 0.10988142292490119,\n",
       " 6.0: 0.0020553359683794467,\n",
       " 7.0: 0.09027667984189723,\n",
       " 8.0: 0.10023715415019763,\n",
       " 9.0: 0.11067193675889328}"
      ]
     },
     "execution_count": 25,
     "metadata": {},
     "output_type": "execute_result"
    }
   ],
   "source": [
    "y_train = pd.read_csv(\"y_train.csv\")\n",
    "y_train = np.array(y_train.iloc[:,1])\n",
    "\n",
    "unique, counts = np.unique(y_train, return_counts=True)\n",
    "dist_train = dict(zip(unique, counts/len(y_train)))\n",
    "dist_train"
   ]
  },
  {
   "cell_type": "code",
   "execution_count": 26,
   "metadata": {},
   "outputs": [
    {
     "data": {
      "text/plain": [
       "{0: 0.334,\n",
       " 1: 0.021,\n",
       " 2: 0.125,\n",
       " 3: 0.051,\n",
       " 4: 0.118,\n",
       " 5: 0.094,\n",
       " 6: 0.003,\n",
       " 7: 0.091,\n",
       " 8: 0.089,\n",
       " 9: 0.074}"
      ]
     },
     "execution_count": 26,
     "metadata": {},
     "output_type": "execute_result"
    }
   ],
   "source": [
    "preds_rf = pd.read_csv(\"preds_rf_more_feats.csv\")\n",
    "preds_rf = np.array(preds_rf.iloc[:,1])\n",
    "\n",
    "unique, counts = np.unique(preds_rf, return_counts=True)\n",
    "dist_train = dict(zip(unique, counts/len(preds_rf)))\n",
    "dist_train"
   ]
  },
  {
   "cell_type": "code",
   "execution_count": null,
   "metadata": {},
   "outputs": [],
   "source": []
  }
 ],
 "metadata": {
  "kernelspec": {
   "display_name": "Python 3",
   "language": "python",
   "name": "python3"
  },
  "language_info": {
   "codemirror_mode": {
    "name": "ipython",
    "version": 3
   },
   "file_extension": ".py",
   "mimetype": "text/x-python",
   "name": "python",
   "nbconvert_exporter": "python",
   "pygments_lexer": "ipython3",
   "version": "3.6.4"
  }
 },
 "nbformat": 4,
 "nbformat_minor": 2
}
