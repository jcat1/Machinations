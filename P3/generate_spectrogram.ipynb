{
 "cells": [
  {
   "cell_type": "markdown",
   "metadata": {},
   "source": [
    "# Listening to the audio\n",
    "This code enables you to listen to a sample sine wave audio."
   ]
  },
  {
   "cell_type": "code",
   "execution_count": 4,
   "metadata": {},
   "outputs": [
    {
     "ename": "ImportError",
     "evalue": "No module named backends",
     "output_type": "error",
     "traceback": [
      "\u001b[0;31m---------------------------------------------------------------------------\u001b[0m",
      "\u001b[0;31mImportError\u001b[0m                               Traceback (most recent call last)",
      "\u001b[0;32m<ipython-input-4-e096ed892f7f>\u001b[0m in \u001b[0;36m<module>\u001b[0;34m()\u001b[0m\n\u001b[0;32m----> 1\u001b[0;31m \u001b[0mget_ipython\u001b[0m\u001b[0;34m(\u001b[0m\u001b[0;34m)\u001b[0m\u001b[0;34m.\u001b[0m\u001b[0mmagic\u001b[0m\u001b[0;34m(\u001b[0m\u001b[0;34mu'matplotlib inline'\u001b[0m\u001b[0;34m)\u001b[0m\u001b[0;34m\u001b[0m\u001b[0m\n\u001b[0m\u001b[1;32m      2\u001b[0m \u001b[0;32mimport\u001b[0m \u001b[0mre\u001b[0m\u001b[0;34m\u001b[0m\u001b[0m\n\u001b[1;32m      3\u001b[0m \u001b[0;32mimport\u001b[0m \u001b[0mnumpy\u001b[0m \u001b[0;32mas\u001b[0m \u001b[0mnp\u001b[0m\u001b[0;34m\u001b[0m\u001b[0m\n\u001b[1;32m      4\u001b[0m \u001b[0;32mimport\u001b[0m \u001b[0mpandas\u001b[0m \u001b[0;32mas\u001b[0m \u001b[0mpd\u001b[0m\u001b[0;34m\u001b[0m\u001b[0m\n\u001b[1;32m      5\u001b[0m \u001b[0;32mimport\u001b[0m \u001b[0mstring\u001b[0m\u001b[0;34m\u001b[0m\u001b[0m\n",
      "\u001b[0;32m/anaconda3/envs/my-rdkit-env/lib/python2.7/site-packages/IPython/core/interactiveshell.pyc\u001b[0m in \u001b[0;36mmagic\u001b[0;34m(self, arg_s)\u001b[0m\n",
      "\u001b[0;32m/anaconda3/envs/my-rdkit-env/lib/python2.7/site-packages/IPython/core/interactiveshell.pyc\u001b[0m in \u001b[0;36mrun_line_magic\u001b[0;34m(self, magic_name, line)\u001b[0m\n",
      "\u001b[0;32m<decorator-gen-105>\u001b[0m in \u001b[0;36mmatplotlib\u001b[0;34m(self, line)\u001b[0m\n",
      "\u001b[0;32m/anaconda3/envs/my-rdkit-env/lib/python2.7/site-packages/IPython/core/magic.pyc\u001b[0m in \u001b[0;36m<lambda>\u001b[0;34m(f, *a, **k)\u001b[0m\n",
      "\u001b[0;32m/anaconda3/envs/my-rdkit-env/lib/python2.7/site-packages/IPython/core/magics/pylab.pyc\u001b[0m in \u001b[0;36mmatplotlib\u001b[0;34m(self, line)\u001b[0m\n",
      "\u001b[0;32m/anaconda3/envs/my-rdkit-env/lib/python2.7/site-packages/IPython/core/interactiveshell.pyc\u001b[0m in \u001b[0;36menable_matplotlib\u001b[0;34m(self, gui)\u001b[0m\n",
      "\u001b[0;32m/anaconda3/envs/my-rdkit-env/lib/python2.7/site-packages/IPython/core/pylabtools.pyc\u001b[0m in \u001b[0;36mactivate_matplotlib\u001b[0;34m(backend)\u001b[0m\n",
      "\u001b[0;32m/anaconda3/envs/my-rdkit-env/lib/python2.7/site-packages/matplotlib/pyplot.pyc\u001b[0m in \u001b[0;36mswitch_backend\u001b[0;34m(newbackend)\u001b[0m\n",
      "\u001b[0;32m/anaconda3/envs/my-rdkit-env/lib/python2.7/site-packages/matplotlib/__init__.pyc\u001b[0m in \u001b[0;36muse\u001b[0;34m(arg, warn, force)\u001b[0m\n",
      "\u001b[0;31mImportError\u001b[0m: No module named backends"
     ]
    }
   ],
   "source": [
    "%matplotlib inline\n",
    "import re\n",
    "import numpy as np\n",
    "import pandas as pd\n",
    "import string\n",
    "import matplotlib.pyplot as plt\n",
    "import librosa\n",
    "import librosa.display\n",
    "import IPython.display as ipd\n",
    "import numpy\n",
    "import torch"
   ]
  },
  {
   "cell_type": "code",
   "execution_count": null,
   "metadata": {
    "collapsed": true
   },
   "outputs": [],
   "source": [
    "SAMPLE_RATE = 22050"
   ]
  },
  {
   "cell_type": "code",
   "execution_count": null,
   "metadata": {},
   "outputs": [],
   "source": [
    "T = 4.0    # seconds\n",
    "t = np.linspace(0, T, int(T*SAMPLE_RATE), endpoint=False) # time variable\n",
    "freq = 440\n",
    "signal = np.sin(2*np.pi*freq*t)\n",
    "ipd.Audio(signal, rate=SAMPLE_RATE)"
   ]
  },
  {
   "cell_type": "markdown",
   "metadata": {
    "collapsed": true
   },
   "source": [
    "# Creating spectrograms\n",
    "Spectrograms provide a 2D feature space to analyze signals in the joint time-frequency domain.\n",
    "\n",
    "This code generates the spectrogram files for use with the CNN example. It makes files for non-noised data!"
   ]
  },
  {
   "cell_type": "code",
   "execution_count": null,
   "metadata": {
    "collapsed": true
   },
   "outputs": [],
   "source": [
    "# Just some re-shaping and dimension finding\n",
    "N = 1\n",
    "print \"N:\",N\n",
    "train = signal[np.newaxis,:]\n",
    "print \"Train shape\",train.shape\n",
    "N_train = train.shape[0]\n",
    "NUM_SAMPLES = train.shape[1]-1\n",
    "\n",
    "X_train = train[:,:-1]\n",
    "y_train = train[:,-1]\n",
    "y_train = y_train.reshape(N_train,1)"
   ]
  },
  {
   "cell_type": "code",
   "execution_count": null,
   "metadata": {
    "collapsed": true
   },
   "outputs": [],
   "source": [
    "# JUST SOME FOURIER TRANSFORM PARAMETERS\n",
    "BINS_OCTAVE = 12*2\n",
    "N_OCTAVES = 7\n",
    "NUM_BINS = BINS_OCTAVE * N_OCTAVES"
   ]
  },
  {
   "cell_type": "code",
   "execution_count": null,
   "metadata": {
    "collapsed": true
   },
   "outputs": [],
   "source": [
    "# Given a wav time series, makes a mel spectrogram\n",
    "# which is a short-time fourier transform with\n",
    "# frequencies on the mel (log) scale.\n",
    "def mel_spec(y):\n",
    "    Q = librosa.cqt(y=y, sr=SAMPLE_RATE, bins_per_octave=BINS_OCTAVE,n_bins=NUM_BINS)\n",
    "    Q_db = librosa.amplitude_to_db(Q,ref=np.max)\n",
    "    return Q_db"
   ]
  },
  {
   "cell_type": "code",
   "execution_count": null,
   "metadata": {
    "collapsed": true
   },
   "outputs": [],
   "source": [
    "# This means that the spectrograms are 168 rows (frequencies)\n",
    "# By 173 columns (time frames)\n",
    "song = X_train[0]\n",
    "test_spec = mel_spec(song)\n",
    "print test_spec.shape\n",
    "FEATS = test_spec.shape[0]\n",
    "FRAMES = test_spec.shape[1]"
   ]
  },
  {
   "cell_type": "code",
   "execution_count": null,
   "metadata": {
    "collapsed": true
   },
   "outputs": [],
   "source": [
    "tmp_train = np.zeros((N_train,FEATS,FRAMES))\n",
    "for i in range(N_train):\n",
    "    tmp_train[i,:,:] = mel_spec(X_train[i])\n",
    "#np.save('Data/xtrain_spec', tmp_train)"
   ]
  },
  {
   "cell_type": "code",
   "execution_count": null,
   "metadata": {
    "collapsed": true
   },
   "outputs": [],
   "source": [
    "librosa.display.specshow(tmp_train[0], y_axis='hz')"
   ]
  },
  {
   "cell_type": "code",
   "execution_count": null,
   "metadata": {
    "collapsed": true
   },
   "outputs": [],
   "source": []
  }
 ],
 "metadata": {
  "anaconda-cloud": {},
  "kernelspec": {
   "display_name": "Python 3",
   "language": "python",
   "name": "python3"
  },
  "language_info": {
   "codemirror_mode": {
    "name": "ipython",
    "version": 3
   },
   "file_extension": ".py",
   "mimetype": "text/x-python",
   "name": "python",
   "nbconvert_exporter": "python",
   "pygments_lexer": "ipython3",
   "version": "3.6.1"
  }
 },
 "nbformat": 4,
 "nbformat_minor": 2
}
